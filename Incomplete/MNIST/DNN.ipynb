{
 "cells": [
  {
   "cell_type": "code",
   "execution_count": 1,
   "id": "73fb24cd",
   "metadata": {},
   "outputs": [],
   "source": [
    "import torch\n",
    "import numpy as np\n",
    "import torchvision\n",
    "from torchvision.datasets import MNIST\n",
    "from torchvision.transforms import ToTensor\n",
    "from torch.utils.data import random_split\n",
    "# from torchvision.utils import make_grid\n",
    "import torch.nn as nn\n",
    "import torch.nn.functional as F\n",
    "from torch.utils.data.dataloader import DataLoader\n",
    "import matplotlib.pyplot as plt\n",
    "%matplotlib inline"
   ]
  },
  {
   "cell_type": "code",
   "execution_count": null,
   "id": "aeecb12a",
   "metadata": {},
   "outputs": [],
   "source": [
    "dataset = MNIST(root='data/', transform = ToTensor())"
   ]
  },
  {
   "cell_type": "code",
   "execution_count": null,
   "id": "d7ee7c7e",
   "metadata": {},
   "outputs": [],
   "source": [
    "val_split = 0.2\n",
    "train_sz, val_sz = int(len(dataset)*(1-val_split)), int(len(dataset)*(val_split))\n",
    "# print(train_sz, val_sz)\n",
    "\n",
    "train_ds, val_ds = random_split(dataset, [train_sz, val_sz])\n",
    "len(train_ds), len(val_ds)"
   ]
  },
  {
   "cell_type": "code",
   "execution_count": null,
   "id": "d21233c3",
   "metadata": {},
   "outputs": [],
   "source": [
    "batch_size = 128\n",
    "\n",
    "train_dl = DataLoader(train_ds, batch_size, shuffle = True)\n",
    "val_dl = DataLoader(val_ds, batch_size, shuffle = True)"
   ]
  },
  {
   "cell_type": "markdown",
   "id": "18f98375",
   "metadata": {},
   "source": [
    "# To_GPU"
   ]
  },
  {
   "cell_type": "code",
   "execution_count": 2,
   "id": "834c50d9",
   "metadata": {},
   "outputs": [
    {
     "data": {
      "text/plain": [
       "False"
      ]
     },
     "execution_count": 2,
     "metadata": {},
     "output_type": "execute_result"
    }
   ],
   "source": [
    "torch.cuda.is_available()"
   ]
  },
  {
   "cell_type": "code",
   "execution_count": null,
   "id": "d8cb535e",
   "metadata": {},
   "outputs": [],
   "source": [
    "def get_default_device():\n",
    "  if torch.cuda.is_available():\n",
    "    return torch.device('cuda')\n",
    "  else:\n",
    "    return torch.device('cpu')\n",
    "\n",
    "device = get_default_device()\n",
    "device"
   ]
  },
  {
   "cell_type": "code",
   "execution_count": null,
   "id": "d7f05cdc",
   "metadata": {},
   "outputs": [],
   "source": [
    "def to_device(data, device):\n",
    "  if isinstance(data, (list, tuple)):\n",
    "    return [to_device(x, device) for x in data]\n",
    "  return data.to(device, non_blocking = True)"
   ]
  },
  {
   "cell_type": "code",
   "execution_count": null,
   "id": "fa3d8f53",
   "metadata": {},
   "outputs": [],
   "source": [
    "class DeviceDataLoader():\n",
    "  def __init__(self, dl, device):\n",
    "    self.dl=dl\n",
    "    self.device = device\n",
    "\n",
    "  def __len__(self):\n",
    "    return len(self.dl)\n",
    "\n",
    "  def __iter__(self):\n",
    "    for b in self.dl:\n",
    "      yield to_device(b, self.device)\n",
    "\n",
    "train_dl = DeviceDataLoader(train_dl, device)\n",
    "val_dl = DeviceDataLoader(val_dl, device)\n",
    "to_device(model)"
   ]
  },
  {
   "cell_type": "markdown",
   "id": "d2074c6e",
   "metadata": {},
   "source": [
    "# Model and Training"
   ]
  },
  {
   "cell_type": "code",
   "execution_count": null,
   "id": "19b7216d",
   "metadata": {},
   "outputs": [],
   "source": [
    "def accuracy(out, labels):\n",
    "    _, preds = torch.max(out, dim=1)\n",
    "    return torch.tensor(torch.sum(preds == labels) / len(labels))"
   ]
  },
  {
   "cell_type": "code",
   "execution_count": null,
   "id": "b7848599",
   "metadata": {},
   "outputs": [],
   "source": [
    "class Model(nn.Module):\n",
    "    def __init__(self):\n",
    "        super().__init__()\n",
    "        #define Model Layers here:\n",
    "        self.linear1 = nn.Linear(784, 32)\n",
    "        self.linear2 = nn.Linear(32, 10)\n",
    "        ###\n",
    "    \n",
    "    def forward(self, x):\n",
    "        #define Forward pass here:\n",
    "        x = x.view(x.size(0), -1)\n",
    "        y = self.linear1(x)\n",
    "        y = F.relu(y)\n",
    "        y = self.linear2(y)\n",
    "        ###\n",
    "        return y\n",
    "    \n",
    "    def training_step(self, batch, loss_fn):\n",
    "        x, y = batch\n",
    "        y_pred = self(x)\n",
    "        loss = loss_fn(y_pred, y)\n",
    "        return loss\n",
    "    \n",
    "    def validation_step(self, batch, loss_fn, metrics=None):\n",
    "        x, y = batch\n",
    "        y_pred = self(x)\n",
    "        loss = loss_fn(y_pred, y)\n",
    "        \n",
    "        metric = None\n",
    "        if metrics is not None:\n",
    "            metric = metrics(y_pred, y)\n",
    "        \n",
    "        return {'val_loss' : loss, f'val_{metrics.__name__}' : metric}\n",
    "    \n",
    "    def validation_epoch_end(self, val_dl, loss_fn,  metrics = None):\n",
    "        val_batches = [self.validation_step(batch, loss_fn, metrics) for batch in val_dl]\n",
    "        \n",
    "        #Epoch Loss\n",
    "        batch_losses = [x['val_loss'] for x in val_batches]\n",
    "        epoch_loss = torch.stack(batch_losses).mean()\n",
    "        print('val_loss: ', epoch_loss.item())\n",
    "        \n",
    "        #Metrics\n",
    "        if metrics is not None:\n",
    "            batch_mets = [x[f'val_{metrics.__name__}'] for x in val_batches]\n",
    "            epoch_mets = torch.stack(batch_mets).mean() \n",
    "            print(f'val_{metrics.__name__}: ', epoch_mets.item())\n",
    "            \n",
    "        return (epoch_loss.item(), epoch_mets.item())\n",
    "            \n",
    "    def epoch_end(self, epoch, val_dl, loss_fn, metrics=None):\n",
    "        print(f'Epoch {epoch+1}:')\n",
    "        return self.validation_epoch_end(val_dl, loss_fn, metrics)\n",
    "        \n",
    "    def fit(self, train_dl, val_dl, epochs, lr, loss_fn, opt_fn = torch.optim.SGD, metrics=None):\n",
    "        history = []\n",
    "        opt = opt_fn(self.parameters(), lr=lr)\n",
    "        for epoch in range(epochs):\n",
    "            # Training Phase\n",
    "            for batch in train_dl:\n",
    "                loss = self.training_step(batch, loss_fn)\n",
    "                loss.backward()\n",
    "                opt.step()\n",
    "                opt.zero_grad()\n",
    "                \n",
    "            # Validation Phase\n",
    "            history.append(self.epoch_end(epoch, val_dl, loss_fn, metrics))\n",
    "        return history\n",
    "        "
   ]
  },
  {
   "cell_type": "code",
   "execution_count": null,
   "id": "b5a0508c",
   "metadata": {},
   "outputs": [],
   "source": [
    "model = Model()"
   ]
  },
  {
   "cell_type": "code",
   "execution_count": null,
   "id": "ae3ffb94",
   "metadata": {},
   "outputs": [],
   "source": [
    "model.fit(train_dl, val_dl, 5, 0.5, F.cross_entropy, metrics=accuracy)"
   ]
  },
  {
   "cell_type": "code",
   "execution_count": null,
   "id": "d816bf8c",
   "metadata": {},
   "outputs": [],
   "source": [
    "model.fit(train_dl, val_dl, 10, 0.1, F.cross_entropy, metrics=accuracy)"
   ]
  },
  {
   "cell_type": "code",
   "execution_count": null,
   "id": "3fd1c1f6",
   "metadata": {},
   "outputs": [],
   "source": [
    "?model"
   ]
  }
 ],
 "metadata": {
  "kernelspec": {
   "display_name": "ds",
   "language": "python",
   "name": "ds"
  },
  "language_info": {
   "codemirror_mode": {
    "name": "ipython",
    "version": 3
   },
   "file_extension": ".py",
   "mimetype": "text/x-python",
   "name": "python",
   "nbconvert_exporter": "python",
   "pygments_lexer": "ipython3",
   "version": "3.8.8"
  }
 },
 "nbformat": 4,
 "nbformat_minor": 5
}
