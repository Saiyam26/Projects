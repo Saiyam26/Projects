{
 "cells": [
  {
   "cell_type": "code",
   "execution_count": 1,
   "id": "0fbedd44",
   "metadata": {},
   "outputs": [],
   "source": [
    "import os\n",
    "import torch\n",
    "import torch.nn as nn\n",
    "import torch.nn.functional as F\n",
    "import torchvision\n",
    "import torchvision.transforms as tt\n",
    "import tarfile\n",
    "# from torchvision.datasets.utils import download_url\n",
    "from torchvision.datasets import ImageFolder, MNIST\n",
    "from torchvision.transforms import ToTensor\n",
    "from torch.utils.data.dataloader import DataLoader\n",
    "from torch.utils.data import random_split\n",
    "import matplotlib.pyplot as plt\n",
    "%matplotlib inline\n",
    "import numpy as np"
   ]
  },
  {
   "cell_type": "code",
   "execution_count": 2,
   "id": "46beef29",
   "metadata": {},
   "outputs": [],
   "source": [
    "class Model(nn.Module):\n",
    "    def __init__(self, input_sz):\n",
    "        super().__init__()\n",
    "        self.input_sz=input_sz\n",
    "        self.lay1 = nn.Linear(input_sz, 256)\n",
    "        self.lay4 = nn.Linear(256,64)\n",
    "        self.lay5 = nn.Linear(64,10)\n",
    "        \n",
    "    def forward(self, x):\n",
    "        x = x.reshape(-1, self.input_sz)\n",
    "        x = F.relu(self.lay1(x), inplace=True)\n",
    "        x = F.relu(self.lay4(x), inplace=True)\n",
    "        y = F.relu(self.lay5(x), inplace=True)\n",
    "        return y"
   ]
  },
  {
   "cell_type": "code",
   "execution_count": 3,
   "id": "7f0fc420",
   "metadata": {},
   "outputs": [],
   "source": [
    "dataset = MNIST(root='data',download=False, train=True, transform=ToTensor())"
   ]
  },
  {
   "cell_type": "code",
   "execution_count": null,
   "id": "ccc9cd34",
   "metadata": {},
   "outputs": [],
   "source": [
    "dataset[0]"
   ]
  },
  {
   "cell_type": "code",
   "execution_count": 4,
   "id": "53372056",
   "metadata": {},
   "outputs": [
    {
     "data": {
      "text/plain": [
       "torch.Size([1, 28, 28])"
      ]
     },
     "execution_count": 4,
     "metadata": {},
     "output_type": "execute_result"
    }
   ],
   "source": [
    "img, lab = dataset[0]\n",
    "img.shape"
   ]
  },
  {
   "cell_type": "code",
   "execution_count": 13,
   "id": "ca0f2187",
   "metadata": {},
   "outputs": [
    {
     "data": {
      "text/plain": [
       "tensor([[0.0410, 0.0569, 0.1040, 0.0000, 0.0461, 0.0000, 0.1708, 0.0467, 0.0000,\n",
       "         0.0000]], grad_fn=<ReluBackward1>)"
      ]
     },
     "execution_count": 13,
     "metadata": {},
     "output_type": "execute_result"
    }
   ],
   "source": [
    "# img = img.resize(1, 784)\n",
    "model = Model(784)\n",
    "y = model(img)\n",
    "y"
   ]
  },
  {
   "cell_type": "code",
   "execution_count": null,
   "id": "49a5f590",
   "metadata": {},
   "outputs": [],
   "source": [
    "y = F.softmax(y)\n",
    "y"
   ]
  },
  {
   "cell_type": "code",
   "execution_count": 16,
   "id": "caacf3db",
   "metadata": {},
   "outputs": [],
   "source": [
    "loss_fn = F.cross_entropy\n",
    "# print(loss_fn(prob, labels))\n",
    "\n",
    "lr = 0.01\n",
    "opt = torch.optim.SGD(model.parameters(), lr=lr)\n",
    "\n",
    "def batch_loss(xb, yb, model, loss_fn, opt = None, metrics = None):\n",
    "    y = model(xb)\n",
    "    loss = loss_fn(y, yb)\n",
    "        \n",
    "    if opt is not None:\n",
    "        loss.backward()\n",
    "        opt.step()\n",
    "        opt.zero_grad()\n",
    "    \n",
    "    if metrics is not None:\n",
    "        metric = metrics(y, yb)\n",
    "    \n",
    "    return loss.item(), len(xb), metric\n",
    "\n",
    "def evaluate(model, val, loss_fn, metrics=None):\n",
    "    losses = [batch_loss(xb, yb, model, loss_fn, metrics=metrics) for xb, yb in val]\n",
    "    loss, batch_sz, metric = zip(*losses)\n",
    "    \n",
    "    total = np.sum(batch_sz)\n",
    "    \n",
    "    avg_loss = np.sum(np.multiply(loss, batch_sz)) / total\n",
    "    \n",
    "    if metrics is not None:\n",
    "        avg_met = np.sum(np.multiply(metric, batch_sz)) / total\n",
    "        \n",
    "    return avg_loss, total, avg_met\n",
    "\n",
    "def accuracy(out, labels):\n",
    "    _, preds = torch.max(out, dim=1)\n",
    "    return torch.sum(preds == labels).item() / len(labels)"
   ]
  },
  {
   "cell_type": "markdown",
   "id": "bf499e5c",
   "metadata": {},
   "source": []
  },
  {
   "cell_type": "code",
   "execution_count": 17,
   "id": "99c0fed1",
   "metadata": {},
   "outputs": [],
   "source": [
    "model = Model(28*28)"
   ]
  },
  {
   "cell_type": "code",
   "execution_count": null,
   "id": "be83f2ea",
   "metadata": {},
   "outputs": [],
   "source": [
    "train_dl = DataLoader(dataset, 128, shuffle=True)"
   ]
  },
  {
   "cell_type": "code",
   "execution_count": 10,
   "id": "149450cf",
   "metadata": {},
   "outputs": [],
   "source": [
    "def fit(epochs, model, train_dl, val_dl, opt, loss_fn, metrics=None):\n",
    "    for epoch in range(epochs):\n",
    "        for xb, yb in train_dl:\n",
    "            \n",
    "            loss, _, _ = batch_loss(xb,yb,model,loss_fn,opt,metrics)\n",
    "        \n",
    "        val_loss,total,val_metr = evaluate(model, val_dl, loss_fn, metrics)\n",
    "        print(f'{epoch+1}/{epochs}:\\nloss: {val_loss}')\n",
    "        if metrics is not None:\n",
    "              print(f'{metrics.__name__}: {val_metr}')"
   ]
  },
  {
   "cell_type": "code",
   "execution_count": 9,
   "id": "8f18f651",
   "metadata": {},
   "outputs": [],
   "source": [
    "val_split = 0.2\n",
    "train_sz, val_sz = int(len(dataset)*(1-val_split)), int(len(dataset)*(val_split))\n",
    "# print(train_sz, val_sz)\n",
    "\n",
    "train_ds, val_ds = random_split(dataset, [train_sz, val_sz])\n",
    "len(train_ds), len(val_ds)\n",
    "\n",
    "batch_size = 128\n",
    "\n",
    "train_dl = DataLoader(train_ds, batch_size, shuffle = True)\n",
    "val_dl = DataLoader(val_ds, batch_size, shuffle = True)"
   ]
  },
  {
   "cell_type": "code",
   "execution_count": 18,
   "id": "972beb16",
   "metadata": {},
   "outputs": [
    {
     "name": "stdout",
     "output_type": "stream",
     "text": [
      "1/5:\n",
      "loss: 2.3034359245300293\n",
      "accuracy: 0.11008333333333334\n",
      "2/5:\n",
      "loss: 2.3034358806610107\n",
      "accuracy: 0.11008333333333334\n",
      "3/5:\n",
      "loss: 2.303435879389445\n",
      "accuracy: 0.11008333333333334\n",
      "4/5:\n",
      "loss: 2.3034359194437664\n",
      "accuracy: 0.11008333333333334\n",
      "5/5:\n",
      "loss: 2.3034358921051026\n",
      "accuracy: 0.11008333333333334\n"
     ]
    }
   ],
   "source": [
    "fit(5, model, train_dl, val_dl, opt, loss_fn, accuracy)"
   ]
  },
  {
   "cell_type": "code",
   "execution_count": null,
   "id": "3d912b66",
   "metadata": {},
   "outputs": [],
   "source": [
    "for x,y in train_dl:\n",
    "    print(x.shape)\n",
    "    break"
   ]
  },
  {
   "cell_type": "code",
   "execution_count": null,
   "id": "1b2bd325",
   "metadata": {},
   "outputs": [],
   "source": []
  }
 ],
 "metadata": {
  "kernelspec": {
   "display_name": "ds",
   "language": "python",
   "name": "ds"
  },
  "language_info": {
   "codemirror_mode": {
    "name": "ipython",
    "version": 3
   },
   "file_extension": ".py",
   "mimetype": "text/x-python",
   "name": "python",
   "nbconvert_exporter": "python",
   "pygments_lexer": "ipython3",
   "version": "3.8.8"
  }
 },
 "nbformat": 4,
 "nbformat_minor": 5
}
